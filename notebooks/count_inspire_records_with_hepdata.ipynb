{
 "cells": [
  {
   "cell_type": "markdown",
   "metadata": {},
   "source": [
    "# LHC publications with HEPData records"
   ]
  },
  {
   "cell_type": "markdown",
   "metadata": {},
   "source": [
    "This notebook counts all Inspire records that have an associated HEPData record using the Inspire API.\n",
    "\n",
    "Count publications per LHC experiment per year and see which fraction has a HEPData record.\n",
    "\n",
    "Written by Graeme Watt (Database Manager for HEPData) on 11th October 2017."
   ]
  },
  {
   "cell_type": "markdown",
   "metadata": {
    "collapsed": true
   },
   "source": [
    "## Get results"
   ]
  },
  {
   "cell_type": "markdown",
   "metadata": {
    "collapsed": true
   },
   "source": [
    "Define a function to compose an Inspire query."
   ]
  },
  {
   "cell_type": "code",
   "execution_count": 1,
   "metadata": {
    "collapsed": true
   },
   "outputs": [],
   "source": [
    "def compose_query(collaboration='', year=0, has_hepdata=False):\n",
    "    \"\"\"\n",
    "    Compose an Inspire query for published papers, with optional arguments\n",
    "    to restrict by collaboration, year, and presence of a HEPData record.\n",
    "    \"\"\"\n",
    "\n",
    "    # Restrict search to papers published (in a refereed journal) that are not conference\n",
    "    # papers and that appear in the hep-ex or nucl-ex primary arXiv categories.\n",
    "    query = 'tc p and not tc c and (primarch hep-ex or primarch nucl-ex)'\n",
    "    \n",
    "    # Restrict search to a particular experimental collaboration.\n",
    "    # Empty collaboration searches for papers from all four main LHC collaborations.\n",
    "    if collaboration:\n",
    "        query += ' and collaboration:{}'.format(collaboration)\n",
    "    else:\n",
    "        query += ' and (collaboration:ALICE or collaboration:ATLAS or ' + \\\n",
    "        'collaboration:CMS or collaboration:LHCb)'\n",
    "        \n",
    "    # Restrict search to a particular year.\n",
    "    if year:\n",
    "        query += ' and date {}'.format(year)\n",
    "    \n",
    "    # Restrict search to publications that have a corresponding HEPData record.\n",
    "    if has_hepdata:\n",
    "        query += ' and 035__:HEPDATA'\n",
    "    \n",
    "    return query"
   ]
  },
  {
   "cell_type": "markdown",
   "metadata": {},
   "source": [
    "Define a function to get the number of Inspire records for a given query."
   ]
  },
  {
   "cell_type": "code",
   "execution_count": 2,
   "metadata": {
    "collapsed": true
   },
   "outputs": [],
   "source": [
    "import requests\n",
    "import re\n",
    "\n",
    "def get_num_results(query):\n",
    "    \"\"\"\n",
    "    Make a search using the Inspire API (https://inspirehep.net/info/hep/api)\n",
    "    with output format MARCXML and returning only the ID number of the first record,\n",
    "    to save unnecessary output.  Returns the number of records in the search result.\n",
    "    \"\"\"\n",
    "    \n",
    "    url = 'https://inspirehep.net/search?p=' + query + '&of=xm&rg=1&ot=001'\n",
    "    \n",
    "    response = requests.get(url)\n",
    "    \n",
    "    m = re.search('Search-Engine-Total-Number-Of-Results: (\\d+)', response.text)\n",
    "    num_results = int(m.group(1)) if m else 0\n",
    "    \n",
    "    return num_results"
   ]
  },
  {
   "cell_type": "markdown",
   "metadata": {},
   "source": [
    "Produce results for all years, then 2010 up to 2017, and the four main LHC collaborations."
   ]
  },
  {
   "cell_type": "code",
   "execution_count": 3,
   "metadata": {
    "collapsed": true
   },
   "outputs": [],
   "source": [
    "years = [0]\n",
    "[years.append(year) for year in range(2010, 2018)]\n",
    "collaborations = ['', 'ALICE', 'ATLAS', 'CMS', 'LHCb']"
   ]
  },
  {
   "cell_type": "markdown",
   "metadata": {},
   "source": [
    "Loop over all years and collaborations and get number of results from Inspire."
   ]
  },
  {
   "cell_type": "code",
   "execution_count": 4,
   "metadata": {},
   "outputs": [
    {
     "name": "stdout",
     "output_type": "stream",
     "text": [
      "Year all, ALICE+ATLAS+CMS+LHCb collaboration, 1783 papers, 736 with HEPData, fraction 0.41.\n",
      "Year all, ALICE collaboration, 177 papers, 156 with HEPData, fraction 0.88.\n",
      "Year all, ATLAS collaboration, 632 papers, 313 with HEPData, fraction 0.50.\n",
      "Year all, CMS collaboration, 595 papers, 211 with HEPData, fraction 0.35.\n",
      "Year all, LHCb collaboration, 381 papers, 56 with HEPData, fraction 0.15.\n",
      "\n",
      "Year 2010, ALICE+ATLAS+CMS+LHCb collaboration, 46 papers, 32 with HEPData, fraction 0.70.\n",
      "Year 2010, ALICE collaboration, 11 papers, 10 with HEPData, fraction 0.91.\n",
      "Year 2010, ATLAS collaboration, 14 papers, 10 with HEPData, fraction 0.71.\n",
      "Year 2010, CMS collaboration, 19 papers, 10 with HEPData, fraction 0.53.\n",
      "Year 2010, LHCb collaboration, 2 papers, 2 with HEPData, fraction 1.00.\n",
      "\n",
      "Year 2011, ALICE+ATLAS+CMS+LHCb collaboration, 211 papers, 96 with HEPData, fraction 0.45.\n",
      "Year 2011, ALICE collaboration, 14 papers, 13 with HEPData, fraction 0.93.\n",
      "Year 2011, ATLAS collaboration, 92 papers, 46 with HEPData, fraction 0.50.\n",
      "Year 2011, CMS collaboration, 79 papers, 32 with HEPData, fraction 0.41.\n",
      "Year 2011, LHCb collaboration, 26 papers, 5 with HEPData, fraction 0.19.\n",
      "\n",
      "Year 2012, ALICE+ATLAS+CMS+LHCb collaboration, 411 papers, 149 with HEPData, fraction 0.36.\n",
      "Year 2012, ALICE collaboration, 37 papers, 33 with HEPData, fraction 0.89.\n",
      "Year 2012, ATLAS collaboration, 166 papers, 74 with HEPData, fraction 0.45.\n",
      "Year 2012, CMS collaboration, 133 papers, 29 with HEPData, fraction 0.22.\n",
      "Year 2012, LHCb collaboration, 75 papers, 13 with HEPData, fraction 0.17.\n",
      "\n",
      "Year 2013, ALICE+ATLAS+CMS+LHCb collaboration, 447 papers, 161 with HEPData, fraction 0.36.\n",
      "Year 2013, ALICE collaboration, 44 papers, 38 with HEPData, fraction 0.86.\n",
      "Year 2013, ATLAS collaboration, 141 papers, 65 with HEPData, fraction 0.46.\n",
      "Year 2013, CMS collaboration, 150 papers, 44 with HEPData, fraction 0.29.\n",
      "Year 2013, LHCb collaboration, 112 papers, 14 with HEPData, fraction 0.12.\n",
      "\n",
      "Year 2014, ALICE+ATLAS+CMS+LHCb collaboration, 344 papers, 170 with HEPData, fraction 0.49.\n",
      "Year 2014, ALICE collaboration, 31 papers, 28 with HEPData, fraction 0.90.\n",
      "Year 2014, ATLAS collaboration, 117 papers, 76 with HEPData, fraction 0.65.\n",
      "Year 2014, CMS collaboration, 107 papers, 50 with HEPData, fraction 0.47.\n",
      "Year 2014, LHCb collaboration, 90 papers, 16 with HEPData, fraction 0.18.\n",
      "\n",
      "Year 2015, ALICE+ATLAS+CMS+LHCb collaboration, 401 papers, 196 with HEPData, fraction 0.49.\n",
      "Year 2015, ALICE collaboration, 51 papers, 47 with HEPData, fraction 0.92.\n",
      "Year 2015, ATLAS collaboration, 154 papers, 75 with HEPData, fraction 0.49.\n",
      "Year 2015, CMS collaboration, 124 papers, 58 with HEPData, fraction 0.47.\n",
      "Year 2015, LHCb collaboration, 73 papers, 16 with HEPData, fraction 0.22.\n",
      "\n",
      "Year 2016, ALICE+ATLAS+CMS+LHCb collaboration, 431 papers, 178 with HEPData, fraction 0.41.\n",
      "Year 2016, ALICE collaboration, 47 papers, 44 with HEPData, fraction 0.94.\n",
      "Year 2016, ATLAS collaboration, 153 papers, 64 with HEPData, fraction 0.42.\n",
      "Year 2016, CMS collaboration, 155 papers, 62 with HEPData, fraction 0.40.\n",
      "Year 2016, LHCb collaboration, 77 papers, 8 with HEPData, fraction 0.10.\n",
      "\n",
      "Year 2017, ALICE+ATLAS+CMS+LHCb collaboration, 232 papers, 71 with HEPData, fraction 0.31.\n",
      "Year 2017, ALICE collaboration, 25 papers, 20 with HEPData, fraction 0.80.\n",
      "Year 2017, ATLAS collaboration, 59 papers, 25 with HEPData, fraction 0.42.\n",
      "Year 2017, CMS collaboration, 92 papers, 21 with HEPData, fraction 0.23.\n",
      "Year 2017, LHCb collaboration, 56 papers, 5 with HEPData, fraction 0.09.\n",
      "\n"
     ]
    }
   ],
   "source": [
    "num_results = {}\n",
    "num_results_with_hepdata = {}\n",
    "fraction_of_results_with_hepdata = {}\n",
    "\n",
    "for year in years:\n",
    "\n",
    "    num_results[year] = {} \n",
    "    num_results_with_hepdata[year] = {}\n",
    "    fraction_of_results_with_hepdata[year] = {}\n",
    "    \n",
    "    for collaboration in collaborations:\n",
    "        \n",
    "        query = compose_query(collaboration, year)\n",
    "        num_results[year][collaboration] = get_num_results(query)\n",
    "        \n",
    "        query_with_hepdata = compose_query(collaboration, year, True)\n",
    "        num_results_with_hepdata[year][collaboration] = get_num_results(query_with_hepdata)\n",
    "        \n",
    "        if num_results[year][collaboration] > 0:\n",
    "            fraction_of_results_with_hepdata[year][collaboration] = \\\n",
    "            float(num_results_with_hepdata[year][collaboration]) / \\\n",
    "            float(num_results[year][collaboration])\n",
    "        else:\n",
    "            fraction_of_results_with_hepdata[year][collaboration] = 0\n",
    "        \n",
    "        print('Year {}, {} collaboration, {} papers, {} with HEPData, fraction {:.2f}.'.format(\n",
    "            year if year else 'all',collaboration if collaboration else 'ALICE+ATLAS+CMS+LHCb',\n",
    "            num_results[year][collaboration],\n",
    "            num_results_with_hepdata[year][collaboration],\n",
    "            fraction_of_results_with_hepdata[year][collaboration]))\n",
    "\n",
    "    print('')"
   ]
  },
  {
   "cell_type": "markdown",
   "metadata": {},
   "source": [
    "## Make some plots"
   ]
  },
  {
   "cell_type": "code",
   "execution_count": 5,
   "metadata": {
    "collapsed": true
   },
   "outputs": [],
   "source": [
    "from datetime import date\n",
    "import matplotlib.pyplot as plt\n",
    "import seaborn as sns\n",
    "%matplotlib inline"
   ]
  },
  {
   "cell_type": "markdown",
   "metadata": {},
   "source": [
    "Take all years together.  Make a bar chart of number of papers for {ALICE, ATLAS, CMS, LHCb} and the subset with a HEPData record."
   ]
  },
  {
   "cell_type": "code",
   "execution_count": 6,
   "metadata": {},
   "outputs": [
    {
     "data": {
      "image/png": "[encoded data removed]",
      "text/plain": [
       "<matplotlib.figure.Figure at 0x111b86a20>"
      ]
     },
     "metadata": {},
     "output_type": "display_data"
    }
   ],
   "source": [
    "labels = [collaboration for collaboration in collaborations if collaboration]\n",
    "values = [num_results[0][collaboration] for collaboration in collaborations if collaboration]\n",
    "values_with_hepdata = [num_results_with_hepdata[0][collaboration] \n",
    "                       for collaboration in collaborations if collaboration]\n",
    "\n",
    "plt.figure()\n",
    "x = 2*labels\n",
    "y = values + values_with_hepdata\n",
    "hue = len(labels)*['All papers'] + len(labels)*['With HEPData']\n",
    "sns.barplot(x, y, hue)\n",
    "plt.title('LHC publications with HEPData records ({})'.format(date.today()))\n",
    "plt.xlabel('Collaboration')\n",
    "plt.ylabel('Number of papers')\n",
    "plt.savefig('allyears_{}.png'.format(date.today()))\n",
    "plt.show()"
   ]
  },
  {
   "cell_type": "markdown",
   "metadata": {},
   "source": [
    "For each of the four experiments {ALICE, ATLAS, CMS, LHCb}, make a bar chart of number of papers versus year."
   ]
  },
  {
   "cell_type": "code",
   "execution_count": 7,
   "metadata": {},
   "outputs": [
    {
     "data": {
      "image/png": "[encoded data removed]",
      "text/plain": [
       "<matplotlib.figure.Figure at 0x111b891d0>"
      ]
     },
     "metadata": {},
     "output_type": "display_data"
    }
   ],
   "source": [
    "plt.figure(figsize=(15,15))\n",
    "for sub in range(1, 5):\n",
    "    plt.subplot(2, 2, sub)\n",
    "    collaboration = collaborations[sub]\n",
    "    labels = [year for year in years if year]\n",
    "    values = [num_results[year][collaboration] for year in years if year]\n",
    "    values_with_hepdata = [num_results_with_hepdata[year][collaboration] \n",
    "                           for year in years if year]\n",
    "    x = 2*labels\n",
    "    y = values + values_with_hepdata\n",
    "    hue = len(labels)*['All papers'] + len(labels)*['With HEPData']\n",
    "    sns.barplot(x, y, hue)\n",
    "    plt.title(collaboration)\n",
    "    plt.xlabel('Year')\n",
    "    plt.ylabel('Number of papers')\n",
    "plt.suptitle('LHC publications with HEPData records ({})'.format(date.today()), \n",
    "             fontsize='xx-large')\n",
    "plt.savefig('breakdown_{}.png'.format(date.today()))\n",
    "plt.show()"
   ]
  },
  {
   "cell_type": "code",
   "execution_count": null,
   "metadata": {
    "collapsed": true
   },
   "outputs": [],
   "source": []
  }
 ],
 "metadata": {
  "kernelspec": {
   "display_name": "Python 3",
   "language": "python",
   "name": "python3"
  },
  "language_info": {
   "codemirror_mode": {
    "name": "ipython",
    "version": 3
   },
   "file_extension": ".py",
   "mimetype": "text/x-python",
   "name": "python",
   "nbconvert_exporter": "python",
   "pygments_lexer": "ipython3",
   "version": "3.6.1"
  }
 },
 "nbformat": 4,
 "nbformat_minor": 1
}
